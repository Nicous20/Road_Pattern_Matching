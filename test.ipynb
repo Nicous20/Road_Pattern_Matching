{
 "cells": [
  {
   "cell_type": "code",
   "execution_count": 12,
   "outputs": [],
   "source": [
    "import cv2 as cv\n",
    "import numpy as np\n",
    "import argparse\n",
    "\n",
    "\n",
    "def pattern_matching(img_file, temp_file, method):\n",
    "    # Read image\n",
    "    img_show = cv.imread(img_file).astype(np.float32)\n",
    "    img = cv.cvtColor(img_show, cv.COLOR_BGR2GRAY)\n",
    "    img = img.astype(np.uint8)\n",
    "    ret, img = cv.threshold(img, 0, 1, cv.THRESH_BINARY + cv.THRESH_OTSU)\n",
    "    H, W = img.shape\n",
    "    mi = np.mean(img)\n",
    "\n",
    "    # Read template image\n",
    "    temp_show = cv.imread(temp_file).astype(np.float32)\n",
    "    temp = cv.cvtColor(temp_show, cv.COLOR_BGR2GRAY)\n",
    "    temp = temp.astype(np.uint8)\n",
    "    ret, temp = cv.threshold(temp, 0, 1, cv.THRESH_BINARY + cv.THRESH_OTSU)\n",
    "    Ht, Wt = temp.shape\n",
    "    mt = np.mean(temp)\n",
    "\n",
    "    # Template matching\n",
    "    i, j = -1, -1\n",
    "    v, _v = -1, -1\n",
    "    if method == 'SSD' or method == 'SAD':\n",
    "        v, _v = H * W * 255, H * W * 255\n",
    "\n",
    "    for y in range(H - Ht):\n",
    "        for x in range(W - Wt):\n",
    "            if method == 'SSD':\n",
    "                _v = np.sum((img[y:y + Ht, x:x + Wt] - temp) ** 2)\n",
    "            elif method == 'NCC':\n",
    "                _v = np.sum(img[y:y + Ht, x:x + Wt] * temp)\n",
    "                _v /= (np.sqrt(np.sum(img[y:y + Ht, x:x + Wt] ** 2)) * np.sqrt(np.sum(temp ** 2)))\n",
    "            elif method == 'SAD':\n",
    "                _v = np.sum(np.abs(img[y:y + Ht, x:x + Wt] - temp))\n",
    "            elif method == 'ZNCC':\n",
    "                _v = np.sum((img[y:y + Ht, x:x + Wt] - mi) * (temp - mt))\n",
    "                _v /= (np.sqrt(np.sum((img[y:y + Ht, x:x + Wt] - mi) ** 2)) * np.sqrt(np.sum((temp - mt) ** 2)))\n",
    "\n",
    "            if method == 'SSD' or method == 'SAD':\n",
    "                if _v < v:\n",
    "                    v = _v\n",
    "                    i, j = x, y\n",
    "            else:\n",
    "                if _v > v:\n",
    "                    v = _v\n",
    "                    i, j = x, y\n",
    "\n",
    "    mat_translation = np.float32([[1, 0, i], [0, 1, j]])\n",
    "    dst = cv.warpAffine(temp_show, mat_translation, (i + Wt, j + Ht), borderValue=(255, 255, 255))\n",
    "    dst = dst.astype(np.uint8)\n",
    "\n",
    "    result = img_show.copy()\n",
    "    result = result.astype(np.uint8)\n",
    "    for x in range(i, i + Wt):\n",
    "        for y in range(j, j + Ht):\n",
    "            if list(dst[y][x]) != [255, 255, 255]:\n",
    "                result[y][x] = dst[y][x]\n",
    "\n",
    "    cv.imwrite(\"./data/result.jpg\", result)\n",
    "    cv.imshow(\"result\", result)\n",
    "    # cv.waitKey(0)\n",
    "    # cv.destroyAllWindows()\n",
    "\n"
   ],
   "metadata": {
    "collapsed": false,
    "pycharm": {
     "name": "#%%\n"
    }
   }
  },
  {
   "cell_type": "code",
   "execution_count": 11,
   "outputs": [],
   "source": [
    "pattern_matching(\"./data/post_4.jpg\", \"./data/pre_4.jpg\", \"ZNCC\")"
   ],
   "metadata": {
    "collapsed": false,
    "pycharm": {
     "name": "#%%\n"
    }
   }
  },
  {
   "cell_type": "code",
   "execution_count": 5,
   "outputs": [
    {
     "data": {
      "text/plain": "[0, 1, 0]"
     },
     "execution_count": 5,
     "metadata": {},
     "output_type": "execute_result"
    }
   ],
   "source": [
    "a = [1, 0, 1]\n",
    "a = [i ^ 1 for i in a]\n",
    "a"
   ],
   "metadata": {
    "collapsed": false,
    "pycharm": {
     "name": "#%%\n"
    }
   }
  },
  {
   "cell_type": "code",
   "execution_count": 2,
   "outputs": [
    {
     "name": "stdout",
     "output_type": "stream",
     "text": [
      "-10\n",
      "-9\n",
      "-8\n",
      "-7\n",
      "-6\n",
      "-5\n",
      "-4\n",
      "-3\n",
      "-2\n",
      "-1\n",
      "0\n",
      "1\n",
      "2\n",
      "3\n",
      "4\n",
      "5\n",
      "6\n",
      "7\n",
      "8\n",
      "9\n"
     ]
    }
   ],
   "source": [
    "for i in range(-10, 10):\n",
    "    print(i)"
   ],
   "metadata": {
    "collapsed": false,
    "pycharm": {
     "name": "#%%\n"
    }
   }
  }
 ],
 "metadata": {
  "kernelspec": {
   "display_name": "Python 3",
   "language": "python",
   "name": "python3"
  },
  "language_info": {
   "codemirror_mode": {
    "name": "ipython",
    "version": 2
   },
   "file_extension": ".py",
   "mimetype": "text/x-python",
   "name": "python",
   "nbconvert_exporter": "python",
   "pygments_lexer": "ipython2",
   "version": "2.7.6"
  }
 },
 "nbformat": 4,
 "nbformat_minor": 0
}