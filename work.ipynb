{
 "cells": [
  {
   "cell_type": "code",
   "execution_count": 4,
   "metadata": {
    "collapsed": true,
    "pycharm": {
     "name": "#%%\n"
    }
   },
   "outputs": [
    {
     "ename": "KeyboardInterrupt",
     "evalue": "",
     "output_type": "error",
     "traceback": [
      "\u001B[0;31m---------------------------------------------------------------------------\u001B[0m",
      "\u001B[0;31mKeyboardInterrupt\u001B[0m                         Traceback (most recent call last)",
      "Input \u001B[0;32mIn [4]\u001B[0m, in \u001B[0;36m<cell line: 53>\u001B[0;34m()\u001B[0m\n\u001B[1;32m     49\u001B[0m cv\u001B[38;5;241m.\u001B[39mimwrite(\u001B[38;5;124m\"\u001B[39m\u001B[38;5;124mout.jpg\u001B[39m\u001B[38;5;124m\"\u001B[39m, out)\n\u001B[1;32m     51\u001B[0m cv\u001B[38;5;241m.\u001B[39mimshow(\u001B[38;5;124m\"\u001B[39m\u001B[38;5;124mresult\u001B[39m\u001B[38;5;124m\"\u001B[39m, out)\n\u001B[0;32m---> 53\u001B[0m \u001B[43mcv\u001B[49m\u001B[38;5;241;43m.\u001B[39;49m\u001B[43mwaitKey\u001B[49m\u001B[43m(\u001B[49m\u001B[38;5;241;43m0\u001B[39;49m\u001B[43m)\u001B[49m\n\u001B[1;32m     55\u001B[0m cv\u001B[38;5;241m.\u001B[39mdestroyAllWindows()\n",
      "\u001B[0;31mKeyboardInterrupt\u001B[0m: "
     ]
    }
   ],
   "source": [
    "import cv2 as cv\n",
    "\n",
    "import numpy as np\n",
    "\n",
    "# Read image\n",
    "\n",
    "img = cv.imread(\"pre.jpg\").astype(np.float32)\n",
    "\n",
    "H, W, C = img.shape\n",
    "\n",
    "mi = np.mean(img)\n",
    "\n",
    "# Read templete image\n",
    "\n",
    "temp = cv.imread(\"post.jpg\").astype(np.float32)\n",
    "\n",
    "Ht, Wt, Ct = temp.shape\n",
    "\n",
    "mt = np.mean(temp)\n",
    "\n",
    "# Templete matching\n",
    "\n",
    "i, j = -1, -1\n",
    "\n",
    "v = -1\n",
    "\n",
    "for y in range(H-Ht):\n",
    "\n",
    "    for x in range(W-Wt):\n",
    "\n",
    "        _v = np.sum((img[y:y+Ht, x:x+Wt]-mi) * (temp-mt))\n",
    "\n",
    "        _v /= (np.sqrt(np.sum((img[y:y+Ht, x:x+Wt]-mi)**2)) * np.sqrt(np.sum((temp-mt)**2)))\n",
    "\n",
    "        if _v > v:\n",
    "\n",
    "            v = _v\n",
    "\n",
    "            i, j = x, y\n",
    "\n",
    "out = img.copy()\n",
    "\n",
    "cv.rectangle(out, pt1=(i, j), pt2=(i+Wt, j+Ht), color=(0,0,255), thickness=1)\n",
    "\n",
    "out = out.astype(np.uint8)\n",
    "\n",
    "# Save result\n",
    "\n",
    "cv.imwrite(\"out.jpg\", out)\n",
    "\n",
    "cv.imshow(\"result\", out)\n",
    "\n",
    "cv.waitKey(0)\n",
    "\n",
    "cv.destroyAllWindows()"
   ]
  },
  {
   "cell_type": "code",
   "execution_count": 6,
   "outputs": [
    {
     "data": {
      "text/plain": "True"
     },
     "execution_count": 6,
     "metadata": {},
     "output_type": "execute_result"
    }
   ],
   "source": [
    "import numpy as np\n",
    "a = np.array([1,2,3])\n",
    "list(a) == [1, 2, 3]"
   ],
   "metadata": {
    "collapsed": false,
    "pycharm": {
     "name": "#%%\n"
    }
   }
  }
 ],
 "metadata": {
  "kernelspec": {
   "display_name": "Python 3",
   "language": "python",
   "name": "python3"
  },
  "language_info": {
   "codemirror_mode": {
    "name": "ipython",
    "version": 2
   },
   "file_extension": ".py",
   "mimetype": "text/x-python",
   "name": "python",
   "nbconvert_exporter": "python",
   "pygments_lexer": "ipython2",
   "version": "2.7.6"
  }
 },
 "nbformat": 4,
 "nbformat_minor": 0
}